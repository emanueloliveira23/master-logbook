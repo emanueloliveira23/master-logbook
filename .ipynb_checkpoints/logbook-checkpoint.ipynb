{
 "cells": [
  {
   "cell_type": "markdown",
   "metadata": {},
   "source": [
    "# Emanuel Oliveira - Mestrado - Diário de Bordo"
   ]
  },
  {
   "cell_type": "markdown",
   "metadata": {},
   "source": [
    "Links utéis:\n",
    "* [Artigo SIGSPATIAL](https://www.overleaf.com/read/wjcwcgcnwznc)\n",
    "* [Apresentação de resultados - Parte II](https://docs.google.com/presentation/d/1WtyTJR9l8LM9_3eXkZzCwNOY1I_3lKTJSAAB17fpyV8/edit?usp=sharing)\n",
    "* [Aprensentação de resultados - Parte II](https://docs.google.com/presentation/d/1MFkIEgtc5dFpWFktKWTYsiLdQYQEKNiliCddws9dsn4/edit?usp=sharing)"
   ]
  },
  {
   "cell_type": "markdown",
   "metadata": {},
   "source": [
    "## 07 de Maio 2018\n",
    "\n",
    "* Início de registro das atividades no diário.\n",
    "* Revisão de texto da seção de experimentos e resultados do artigo.\n",
    "* Adicionando imagens/gráficos aos resultados."
   ]
  },
  {
   "cell_type": "markdown",
   "metadata": {},
   "source": [
    "## TODO LIST\n",
    "* Determinar melhor(es) `k`(s): conjunto `BestK`\n",
    "    * Falar sobre a sensibilidade da variação do `k`.\n",
    "* Métricas:\n",
    "    * Score (~~profit~~)\n",
    "    * Aproveitamento (~~custo~~)\n",
    "        * `Tempo Visitando / Tempo Total`\n",
    "    * NTFS\n",
    "* Mudar gráficos:\n",
    "    * Eixo y: métrica\n",
    "    * Eixo x: quantidade de hotéis\n",
    "    * Duas barras por quantidade de hotéis: avg do baseline e avg(s) do `BestK`\n",
    "    * Variar barras em cores. Testar alternativas:\n",
    "        * Escala monocromática de uma determinada cor (cinza, azul, verde, etc.)\n",
    "        * Paleta de cores qualitativas disponíveis no matplot lib.\n",
    "* Subseções de resultados:\n",
    "    * Performance (tempo de execução)\n",
    "    * Score (qualidade)\n",
    "    * Aproveitamento\n",
    "    * NTFS\n",
    "* (Incerto) Falar sobre o tempo da etapa de pré-processamento\n"
   ]
  },
  {
   "cell_type": "code",
   "execution_count": null,
   "metadata": {},
   "outputs": [],
   "source": []
  }
 ],
 "metadata": {
  "kernelspec": {
   "display_name": "Python 3",
   "language": "python",
   "name": "python3"
  },
  "language_info": {
   "codemirror_mode": {
    "name": "ipython",
    "version": 3
   },
   "file_extension": ".py",
   "mimetype": "text/x-python",
   "name": "python",
   "nbconvert_exporter": "python",
   "pygments_lexer": "ipython3",
   "version": "3.6.5"
  }
 },
 "nbformat": 4,
 "nbformat_minor": 2
}
